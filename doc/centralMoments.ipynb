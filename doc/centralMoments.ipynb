{
 "cells": [
  {
   "cell_type": "code",
   "execution_count": 18,
   "metadata": {},
   "outputs": [],
   "source": [
    "library(polyAlgebra);\n",
    "setwd(\"../\");\n",
    "\n",
    "\n",
    "# RTemplate genereted code.\n",
    "############# RT standard functions ########\n",
    "\n",
    "printf = function(...) {\n",
    "  cat(sprintf(...))\n",
    "}\n",
    "quiet.source = function(..., comment=\"# \") {\n",
    "  f=textConnection(\"quiet.source.text\",\"w\");\n",
    "  sink(f); ret=source(...); sink();\n",
    "  close(f);\n",
    "  cat(paste(comment,quiet.source.text,\"\n",
    "\",sep=\"\"),sep=\"\")\n",
    "  ret\n",
    "}\n",
    "if (!exists(\"include.dir\")) include.dir=NULL;\n",
    "source = function(file,...) {\n",
    "  pot = c(file, paste(include.dir,file,sep=\"/\"))\n",
    "  sel = sapply(pot,file.exists)\n",
    "  sel = which(sel)\n",
    "  if (length(sel) < 1)\n",
    "    stop(\"file not found:\",file,\" in include directories:\",paste(include.dir,collapse=\",\"))\n",
    "  newfile=pot[sel[1]]\n",
    "  base::source(file=newfile,...)\n",
    "}\n",
    "add.include.dir = function(dir) {\n",
    "  if (substr(dir,1,1) != \"/\") dir = paste(getwd(),dir,sep=\"/\");\n",
    "  include.dir <<- c(include.dir,dir)\n",
    "}\n",
    "linemark=function(...) {invisible(NULL)}\n"
   ]
  },
  {
   "cell_type": "code",
   "execution_count": 19,
   "metadata": {},
   "outputs": [],
   "source": [
    "MODEL=\"d2q9\"\n",
    "Options=list(bc=FALSE)\n",
    "add.include.dir(\"tools\")\n",
    "add.include.dir(\"src\")\n",
    "add.include.dir(\"/home/michal/projekty/TCLB/models/flow/d2q9/\")\n",
    "\n",
    "source('Dynamics.R')\n"
   ]
  },
  {
   "cell_type": "code",
   "execution_count": 22,
   "metadata": {},
   "outputs": [],
   "source": [
    "source(\"conf.R\") ;\n",
    "\n",
    "source(\"lib/feq.R\")\n",
    "source(\"lib/boundary.R\")\n",
    "source(\"lib/FMT.R\")\n",
    "    \n",
    "    # Extracting velocity set\n",
    "U = as.matrix(DensityAll[DensityAll$group==\"f\",c(\"dx\",\"dy\")])\n"
   ]
  },
  {
   "cell_type": "code",
   "execution_count": 31,
   "metadata": {},
   "outputs": [
    {
     "name": "stdout",
     "output_type": "stream",
     "text": [
      "tmp[0] = rho*ux;\n",
      "tmp[1] = rho*uy;\n"
     ]
    }
   ],
   "source": [
    "u = PV(c('ux','uy'))\n",
    "tmp = PV(paste(\"tmp[\",1:9-1,\"]\",sep=\"\"))\n",
    "rho = PV('rho')\n",
    "J = u*rho\n",
    "C(tmp[1:2],J)"
   ]
  },
  {
   "cell_type": "code",
   "execution_count": 63,
   "metadata": {},
   "outputs": [],
   "source": [
    "EQ = MRT_eq(U, J=J,ortogonal=FALSE,order=300)"
   ]
  },
  {
   "cell_type": "code",
   "execution_count": 72,
   "metadata": {},
   "outputs": [
    {
     "name": "stdout",
     "output_type": "stream",
     "text": [
      "tmp[0] = -ux;\n",
      "tmp[1] = 1 - ux;\n",
      "tmp[2] = -ux;\n",
      "tmp[3] = -1 - ux;\n",
      "tmp[4] = -ux;\n",
      "tmp[5] = 1 - ux;\n",
      "tmp[6] = -1 - ux;\n",
      "tmp[7] = -1 - ux;\n",
      "tmp[8] = 1 - ux;\n"
     ]
    }
   ],
   "source": [
    "\n",
    "U_CM_x = U[,1] - u[1]\n",
    "U_CM_y = U[,2] - u[2]\n",
    "\n",
    "C(tmp,U_CM_x)"
   ]
  },
  {
   "cell_type": "code",
   "execution_count": 79,
   "metadata": {},
   "outputs": [
    {
     "name": "stdout",
     "output_type": "stream",
     "text": [
      "tmp[0] = rho;\n",
      "tmp[1] = 0;\n",
      "tmp[2] = 0;\n",
      "tmp[3] = rho/3.;\n",
      "tmp[4] = rho/3.;\n",
      "tmp[5] = 0;\n",
      "tmp[6] = 0;\n",
      "tmp[7] = 0;\n",
      "tmp[8] = rho/9.;\n"
     ]
    }
   ],
   "source": [
    "CM = tmp\n",
    "\n",
    "for (j in 1:9){\n",
    "    a = EQ$p[j,1]\n",
    "    b = EQ$p[j,2]\n",
    "    temp = EQ$feq[1] * U_CM_x[1] ^ a * U_CM_y[1] ^ b\n",
    "    for (i in 2:9){\n",
    "        temp = temp + EQ$feq[i] * U_CM_x[i] ^ a * U_CM_y[i] ^ b\n",
    "    }\n",
    "    CM[j] = temp\n",
    "}\n",
    "C(tmp, CM)"
   ]
  },
  {
   "cell_type": "code",
   "execution_count": null,
   "metadata": {},
   "outputs": [],
   "source": []
  }
 ],
 "metadata": {
  "kernelspec": {
   "display_name": "R",
   "language": "R",
   "name": "ir"
  },
  "language_info": {
   "codemirror_mode": "r",
   "file_extension": ".r",
   "mimetype": "text/x-r-source",
   "name": "R",
   "pygments_lexer": "r",
   "version": "4.0.2"
  }
 },
 "nbformat": 4,
 "nbformat_minor": 4
}
